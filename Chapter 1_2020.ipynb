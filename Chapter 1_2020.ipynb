{
 "cells": [
  {
   "cell_type": "markdown",
   "metadata": {
    "Collapsed": "false"
   },
   "source": [
    "![](pic/pic_1.png)\n"
   ]
  },
  {
   "cell_type": "markdown",
   "metadata": {
    "Collapsed": "false",
    "heading_collapsed": true
   },
   "source": [
    "## Jupyter Notebook 사용법 설명"
   ]
  },
  {
   "cell_type": "markdown",
   "metadata": {
    "Collapsed": "false",
    "heading_collapsed": true
   },
   "source": [
    "## 결과를 화면에 인쇄하기 "
   ]
  },
  {
   "cell_type": "code",
   "execution_count": null,
   "metadata": {
    "Collapsed": "false"
   },
   "outputs": [],
   "source": [
    "import sys\n",
    "print(sys.version)"
   ]
  },
  {
   "cell_type": "code",
   "execution_count": null,
   "metadata": {
    "Collapsed": "false",
    "hidden": true
   },
   "outputs": [],
   "source": [
    "5+7"
   ]
  },
  {
   "cell_type": "code",
   "execution_count": null,
   "metadata": {
    "Collapsed": "false",
    "hidden": true
   },
   "outputs": [],
   "source": [
    "print(5+7)"
   ]
  },
  {
   "cell_type": "code",
   "execution_count": null,
   "metadata": {
    "Collapsed": "false",
    "hidden": true
   },
   "outputs": [],
   "source": [
    "3+5\n",
    "4+2\n",
    "10+20"
   ]
  },
  {
   "cell_type": "code",
   "execution_count": null,
   "metadata": {
    "Collapsed": "false",
    "hidden": true
   },
   "outputs": [],
   "source": [
    "print(3+5)\n",
    "print(4+2)\n",
    "print(  10+20   )"
   ]
  },
  {
   "cell_type": "code",
   "execution_count": null,
   "metadata": {
    "Collapsed": "false",
    "hidden": true
   },
   "outputs": [],
   "source": [
    "print( \"Hello, world!\" )"
   ]
  },
  {
   "cell_type": "code",
   "execution_count": null,
   "metadata": {
    "Collapsed": "false",
    "hidden": true
   },
   "outputs": [],
   "source": [
    "print( 'Hello, world!')"
   ]
  },
  {
   "cell_type": "code",
   "execution_count": null,
   "metadata": {
    "Collapsed": "false",
    "hidden": true
   },
   "outputs": [],
   "source": [
    "print( Hello, world!)"
   ]
  },
  {
   "cell_type": "code",
   "execution_count": null,
   "metadata": {
    "Collapsed": "false",
    "hidden": true
   },
   "outputs": [],
   "source": [
    "print( \"I\", \"have\", \"two\", \"apples\"  )"
   ]
  },
  {
   "cell_type": "code",
   "execution_count": null,
   "metadata": {
    "Collapsed": "false",
    "hidden": true
   },
   "outputs": [],
   "source": [
    "print( \"I\",\"have\",\"two\",\"apples\" )"
   ]
  },
  {
   "cell_type": "code",
   "execution_count": null,
   "metadata": {
    "Collapsed": "false",
    "hidden": true
   },
   "outputs": [],
   "source": [
    "print( \"I\",\"have\",25,\"apples\" )"
   ]
  },
  {
   "cell_type": "markdown",
   "metadata": {
    "Collapsed": "false",
    "hidden": true
   },
   "source": [
    "<img style=\"float: left;\" src=\"pic/pic_1_1.png\" width=\"400\">"
   ]
  },
  {
   "cell_type": "markdown",
   "metadata": {
    "Collapsed": "false",
    "heading_collapsed": true
   },
   "source": [
    "# **제 0장  객체(object)**   \n",
    "이 내용은 지금으로선 이해하기 어려우나, 나중에 유용하다."
   ]
  },
  {
   "cell_type": "markdown",
   "metadata": {
    "Collapsed": "false",
    "hidden": true
   },
   "source": [
    "파이썬에는 여러 데이터 타입이 있다."
   ]
  },
  {
   "cell_type": "markdown",
   "metadata": {
    "Collapsed": "false",
    "hidden": true
   },
   "source": [
    "파이썬 프로그램의 모든 데이터는 객체로 표현되거나, 객체사이의 관계에 의해 표현된다."
   ]
  },
  {
   "cell_type": "markdown",
   "metadata": {
    "Collapsed": "false",
    "hidden": true
   },
   "source": [
    "어떤 객체들의 값은 프로그램이 실행되는 과정에서 변할 수 있다.\n",
    "이러한 객체들을 mutable object (가변객체)라 한다.\n",
    "반면에 객체가 만들어진 이후에는 그 값이 변하지 않는 객체들을 immutable object (불변객체) 라 한다."
   ]
  },
  {
   "cell_type": "markdown",
   "metadata": {
    "Collapsed": "false",
    "hidden": true
   },
   "source": [
    "각 객체는 객체 타입, 객체의 값, 객체 아덴티티 로 이루어 진다. \n",
    "객체타입으로는 number, string, list 또는 그 밖의 타입이  있다.\n",
    "객체의 값은 객체에 담겨있는 데이터 값이다.\n",
    "객체의 아이덴티티는 컴퓨터 메모리에 위치하는 객체의 고유번호(identity number) 로 볼 수 있다."
   ]
  },
  {
   "cell_type": "markdown",
   "metadata": {
    "Collapsed": "false",
    "hidden": true
   },
   "source": [
    "대부분의 파이썬 객체들은 데이터나 함수, 또는 둘 다 를 가진다.  \n",
    "이들을 attribute라 부른다.\n",
    "\n",
    "객체의 이름 다음에 점(dot, 마침표)를 찍고, attribute의 이름이 나온다.\n",
    "\n",
    "attribute는 두 종류가 있다:  data attributes or methods  \n",
    "data attribute는 객체의 값이다.  \n",
    "method는 객체에 적용되는 함수다.  \n",
    "객체의 타입은 적용가능한 method를 결정한다.  "
   ]
  },
  {
   "cell_type": "markdown",
   "metadata": {
    "Collapsed": "false",
    "heading_collapsed": true
   },
   "source": [
    "# **제 1장  변수(variable), 표현식(expression),  문장(statement)**  \n",
    "<br>\n"
   ]
  },
  {
   "cell_type": "markdown",
   "metadata": {
    "Collapsed": "false",
    "heading_collapsed": true,
    "hidden": true
   },
   "source": [
    "## 1.  값(value)과 자료형(data type)"
   ]
  },
  {
   "cell_type": "markdown",
   "metadata": {
    "Collapsed": "false",
    "hidden": true
   },
   "source": [
    "### 파이썬의 데이터 자료형"
   ]
  },
  {
   "cell_type": "markdown",
   "metadata": {
    "Collapsed": "false",
    "hidden": true
   },
   "source": [
    "기본 자료형:  문자열(string), 정수(int), 실수(float), 불(boolean)<br>\n",
    "containers: 리스트(list), 딕셔너리(dictionary), 튜플(tuple), 셋(set)\n",
    "    "
   ]
  },
  {
   "cell_type": "markdown",
   "metadata": {
    "Collapsed": "false",
    "hidden": true
   },
   "source": [
    "기본 자료형(type): 문자열(string), 정수(integer), 실수(소수점이 있음, float), 불(boolean) \n",
    "\n",
    "|  값의 예             |        자료형     | \n",
    "| :----------------- |  ------------------| \n",
    "|  'Hello,World!'   |  문자열(string) |  \n",
    "|        2          |  정수(integer)  | \n",
    "|       3.5         |  실수(float)    |  \n",
    "|     True          |  불(boolean)    |"
   ]
  },
  {
   "cell_type": "markdown",
   "metadata": {
    "Collapsed": "false",
    "hidden": true
   },
   "source": [
    "### 자료형을 알려주는 함수: type( )  "
   ]
  },
  {
   "cell_type": "markdown",
   "metadata": {
    "Collapsed": "false",
    "hidden": true
   },
   "source": [
    "'Hello,World!'의 자료형은?"
   ]
  },
  {
   "cell_type": "code",
   "execution_count": null,
   "metadata": {
    "Collapsed": "false",
    "hidden": true
   },
   "outputs": [],
   "source": [
    "type('Hello, World!')"
   ]
  },
  {
   "cell_type": "markdown",
   "metadata": {
    "Collapsed": "false",
    "hidden": true
   },
   "source": [
    "<br><br>\n",
    "2 의 자료형은?"
   ]
  },
  {
   "cell_type": "code",
   "execution_count": null,
   "metadata": {
    "Collapsed": "false"
   },
   "outputs": [],
   "source": [
    "type(2)"
   ]
  },
  {
   "cell_type": "markdown",
   "metadata": {
    "Collapsed": "false",
    "hidden": true
   },
   "source": [
    "<br><br>\n",
    "3.5 의 자료형은?"
   ]
  },
  {
   "cell_type": "code",
   "execution_count": null,
   "metadata": {
    "Collapsed": "false"
   },
   "outputs": [],
   "source": [
    "type(3.5)"
   ]
  },
  {
   "cell_type": "code",
   "execution_count": null,
   "metadata": {
    "Collapsed": "false"
   },
   "outputs": [],
   "source": [
    "type(True)"
   ]
  },
  {
   "cell_type": "markdown",
   "metadata": {
    "Collapsed": "false"
   },
   "source": [
    "True의 T는 반드시   ..."
   ]
  },
  {
   "cell_type": "code",
   "execution_count": null,
   "metadata": {
    "Collapsed": "false"
   },
   "outputs": [],
   "source": [
    "type(type)"
   ]
  },
  {
   "cell_type": "markdown",
   "metadata": {
    "Collapsed": "false",
    "hidden": true
   },
   "source": [
    "#### 문자열(string)"
   ]
  },
  {
   "cell_type": "markdown",
   "metadata": {
    "Collapsed": "false",
    "hidden": true
   },
   "source": [
    "* 한 쌍의 따옴표와 그 사이에 있는 0개 이상의 문자.\n",
    "* 한 쌍의 따옴표는 '  ' 이거나 \" \" 이다."
   ]
  },
  {
   "cell_type": "markdown",
   "metadata": {
    "Collapsed": "false",
    "hidden": true
   },
   "source": [
    "문자열 \"apple\" 은 문자열 'apple'과 동일하다."
   ]
  },
  {
   "cell_type": "markdown",
   "metadata": {
    "Collapsed": "false",
    "hidden": true
   },
   "source": [
    "\"I can't stand it.\"은 올바른 문자열"
   ]
  },
  {
   "cell_type": "markdown",
   "metadata": {
    "Collapsed": "false",
    "hidden": true
   },
   "source": [
    "'I can't stand it'은 잘못된 것으로 error 발생."
   ]
  },
  {
   "cell_type": "markdown",
   "metadata": {
    "Collapsed": "false",
    "hidden": true
   },
   "source": [
    "<span style=\"color:red\"> ### 연습 1.1</span> \n",
    "<pre>\n",
    "'I can\\'t stand it'은 올바른 문자열이다. \n",
    "어떻게 확인 하나?"
   ]
  },
  {
   "cell_type": "code",
   "execution_count": null,
   "metadata": {
    "Collapsed": "false"
   },
   "outputs": [],
   "source": [
    "print(\"I can't stand it.\") # 조심해!!!!"
   ]
  },
  {
   "cell_type": "code",
   "execution_count": null,
   "metadata": {
    "Collapsed": "false"
   },
   "outputs": [],
   "source": [
    "print('I can't stand it')"
   ]
  },
  {
   "cell_type": "markdown",
   "metadata": {
    "Collapsed": "false",
    "hidden": true
   },
   "source": [
    "<span style=\"color:red\">연습 1.2</span>   \n",
    "'You have it\" 은 올바른 문자열인가?"
   ]
  },
  {
   "cell_type": "code",
   "execution_count": null,
   "metadata": {
    "Collapsed": "false"
   },
   "outputs": [],
   "source": [
    "print('I can\\'t stand it')"
   ]
  },
  {
   "cell_type": "markdown",
   "metadata": {
    "Collapsed": "false",
    "hidden": true
   },
   "source": [
    "#### 정수(integer)"
   ]
  },
  {
   "cell_type": "markdown",
   "metadata": {
    "Collapsed": "false",
    "hidden": true
   },
   "source": [
    "* 양의 정수, 영, 음의 정수중의 하나를 나타낸다. \n",
    "* 나타낼 수 있는 최대치가 있다.(추후 논의)"
   ]
  },
  {
   "cell_type": "markdown",
   "metadata": {
    "Collapsed": "false",
    "hidden": true
   },
   "source": [
    "<span style=\"color:red\">연습 1.3</span>   \n",
    "정수를 나타낼 때, 1,000,000 처럼 중간에 쉼표를 넣으면 어떻게 되는지 확인하시오."
   ]
  },
  {
   "cell_type": "code",
   "execution_count": null,
   "metadata": {
    "Collapsed": "false"
   },
   "outputs": [],
   "source": [
    "print(1,000,000)"
   ]
  },
  {
   "cell_type": "markdown",
   "metadata": {
    "Collapsed": "false",
    "hidden": true
   },
   "source": [
    "#### 실수(float)"
   ]
  },
  {
   "cell_type": "markdown",
   "metadata": {
    "Collapsed": "false",
    "hidden": true
   },
   "source": [
    "* 소수점이 있는 숫자"
   ]
  },
  {
   "cell_type": "markdown",
   "metadata": {
    "Collapsed": "false",
    "hidden": true
   },
   "source": [
    "<span style=\"color:red\">연습 1.4</span>   \n",
    "3.141592 의 데이터 타입을 확인하시오."
   ]
  },
  {
   "cell_type": "code",
   "execution_count": null,
   "metadata": {
    "Collapsed": "false"
   },
   "outputs": [],
   "source": [
    "type(3.141590)"
   ]
  },
  {
   "cell_type": "markdown",
   "metadata": {
    "Collapsed": "false",
    "hidden": true
   },
   "source": [
    "<span style=\"color:red\">연습 1.5</span>   \n",
    "3.0 의 데이터 타입을 확인하시오."
   ]
  },
  {
   "cell_type": "markdown",
   "metadata": {
    "Collapsed": "false",
    "hidden": true
   },
   "source": [
    "<span style=\"color:red\">연습 1.6</span>   \n",
    "3. 의 데이터 타입을 확인하시오."
   ]
  },
  {
   "cell_type": "markdown",
   "metadata": {
    "Collapsed": "false",
    "hidden": true
   },
   "source": [
    "<span style=\"color:red\">연습 1.7</span>   \n",
    "3 의 데이터 타입을 확인하시오."
   ]
  },
  {
   "cell_type": "markdown",
   "metadata": {
    "Collapsed": "false",
    "hidden": true
   },
   "source": [
    "#### 종합"
   ]
  },
  {
   "cell_type": "markdown",
   "metadata": {
    "Collapsed": "false",
    "hidden": true
   },
   "source": [
    "<span style=\"color:red\">연습 1.8</span>   \n",
    "'a' 의 자료형은?"
   ]
  },
  {
   "cell_type": "markdown",
   "metadata": {
    "Collapsed": "false",
    "hidden": true
   },
   "source": [
    "<span style=\"color:red\">연습 1.9</span>   \n",
    "2 의 자료형은?"
   ]
  },
  {
   "cell_type": "markdown",
   "metadata": {
    "Collapsed": "false",
    "hidden": true
   },
   "source": [
    "<span style=\"color:red\">연습 1.10</span>   \n",
    "'2' 의 자료형은?"
   ]
  },
  {
   "cell_type": "markdown",
   "metadata": {
    "Collapsed": "false",
    "hidden": true
   },
   "source": [
    "이들 외에도 파이썬의 자료형은 더 있으나, 추후에 설명 한다.\n",
    "<br>"
   ]
  },
  {
   "cell_type": "markdown",
   "metadata": {
    "Collapsed": "false",
    "heading_collapsed": true,
    "hidden": true
   },
   "source": [
    "## 2.  변수(Variable)"
   ]
  },
  {
   "cell_type": "markdown",
   "metadata": {
    "Collapsed": "false",
    "hidden": true
   },
   "source": [
    "<img style=\"float: left;\" src=\"pic/pic_1_2.png\" width=\"300\">"
   ]
  },
  {
   "cell_type": "markdown",
   "metadata": {
    "Collapsed": "false",
    "hidden": true
   },
   "source": [
    "* 변수는 값이 저장되는 위치에 붙인 이름이다. \n",
    "* 이름은 프로그래머가 마음대로 정한다. (단 이름을 붙이는 규칙을 준수해야한다.)\n",
    "* 변수에 값을 줄 때(배정할 때), = 기호를 사용하며, 변수는 = 기호의 왼쪽에 위치한다."
   ]
  },
  {
   "cell_type": "markdown",
   "metadata": {
    "Collapsed": "false",
    "hidden": true
   },
   "source": [
    "변수에 값을 주는 문장을 대입문(지정문, 배정문, Assignment statement)이라 한다."
   ]
  },
  {
   "cell_type": "code",
   "execution_count": null,
   "metadata": {
    "Collapsed": "false",
    "hidden": true
   },
   "outputs": [],
   "source": [
    "message = 'Artificial Intelligence'\n",
    "n = 17\n",
    "pi = 3.1415926535897931"
   ]
  },
  {
   "cell_type": "markdown",
   "metadata": {
    "Collapsed": "false"
   },
   "source": [
    "n <--- 17  "
   ]
  },
  {
   "cell_type": "markdown",
   "metadata": {
    "Collapsed": "false",
    "hidden": true
   },
   "source": [
    "<br><br>\n",
    "여기에서 = 기호는 기호 오른쪽의 값을 기호 왼쪽의 변수에 배정한다는 의미이다.  \n",
    "\n",
    "변수 값을 출력하기 위해서 print( )문을 사용한다.  "
   ]
  },
  {
   "cell_type": "markdown",
   "metadata": {
    "Collapsed": "false",
    "hidden": true
   },
   "source": [
    "<span style=\"color:red\">연습 1.11</span>   \n",
    "변수 n 의 값을 인쇄해보자."
   ]
  },
  {
   "cell_type": "code",
   "execution_count": null,
   "metadata": {
    "Collapsed": "false"
   },
   "outputs": [],
   "source": [
    "print(n)"
   ]
  },
  {
   "cell_type": "markdown",
   "metadata": {
    "Collapsed": "false",
    "hidden": true
   },
   "source": [
    "<br><br>\n",
    "그런데, 다음을 실행하면,"
   ]
  },
  {
   "cell_type": "code",
   "execution_count": null,
   "metadata": {
    "Collapsed": "false",
    "hidden": true
   },
   "outputs": [],
   "source": [
    "n"
   ]
  },
  {
   "cell_type": "code",
   "execution_count": null,
   "metadata": {
    "Collapsed": "false",
    "hidden": true
   },
   "outputs": [],
   "source": [
    "x=5\n",
    "n\n",
    "y=3"
   ]
  },
  {
   "cell_type": "code",
   "execution_count": null,
   "metadata": {
    "Collapsed": "false",
    "hidden": true
   },
   "outputs": [],
   "source": [
    "x=3\n",
    "x=\"aaa\"\n",
    "x=9.9\n",
    "print(x)"
   ]
  },
  {
   "cell_type": "markdown",
   "metadata": {
    "Collapsed": "false",
    "hidden": true
   },
   "source": [
    "<br><br>\n",
    "변수는 왜 필요한가?  \n",
    "\n",
    "변수에 값을 저장해 놓았다가, 나중에 다시 사용하기 위함이다.  \n",
    "예를 들어 프로그래밍 코드의 첫번째 줄에서 사용자로부터 키보드 입력을 받는다고 하자.   \n",
    "사용자가 키보드로 \"서울\"이라고 타이핑을 했다고 하자.\n",
    "\n",
    "프로그래밍 코드의 두번째 줄에서, 사용자가 키보드로 무엇을 입력했던지 관계없이 입력한 내용을 그대로 프린팅 한다고 하면,  \n",
    "사용자가 키보드로 입력한 내용을 알고 있어야 프린팅을 할 수 있다.\n",
    "그 방법은 첫번째 줄에서 사용자가 입력한 내용을 변수에 저장한 다음, 두번째줄에서 변수에 저장된 내용을 인쇄하라고 하면 된다.\n"
   ]
  },
  {
   "cell_type": "markdown",
   "metadata": {
    "Collapsed": "false",
    "hidden": true
   },
   "source": [
    "<br><br>\n",
    "x = x + 1 은 수학적으로 맞지 않다.    \n",
    "그러나 컴퓨터 코딩에서는 다음 의미로 쓰인다.  \n",
    "= 의 오른쪽 수식 을 먼저 실행하여 그 결과(즉, 새로운 값)를, = 의 왼쪽 변수 에 저장하라.  \n",
    "오른쪽 수식,(지금의) x 값에 1을 더한 값으로 만들라, 을 먼저 실행하여, 그 결과(즉 현재 x 값에 1을 더한 값)를, = 의 왼쪽 변수 x에 저장한다. "
   ]
  },
  {
   "cell_type": "markdown",
   "metadata": {
    "Collapsed": "false"
   },
   "source": [
    "(new) x <---- (old) x + 1"
   ]
  },
  {
   "cell_type": "code",
   "execution_count": null,
   "metadata": {
    "Collapsed": "false",
    "hidden": true
   },
   "outputs": [],
   "source": [
    "x = 5\n",
    "x = x + 1\n",
    "print(x)"
   ]
  },
  {
   "cell_type": "markdown",
   "metadata": {
    "Collapsed": "false",
    "hidden": true
   },
   "source": [
    "<br><br>\n",
    "변수의 자료형(type)은 변수가 참조하는 값의 자료형이다."
   ]
  },
  {
   "cell_type": "markdown",
   "metadata": {
    "Collapsed": "false",
    "hidden": true
   },
   "source": [
    "<span style=\"color:red\">연습 1.12</span>   \n",
    "변수 x의 자료형은?"
   ]
  },
  {
   "cell_type": "code",
   "execution_count": null,
   "metadata": {
    "Collapsed": "false",
    "hidden": true
   },
   "outputs": [],
   "source": [
    "type(x)"
   ]
  },
  {
   "cell_type": "code",
   "execution_count": null,
   "metadata": {
    "Collapsed": "false",
    "hidden": true
   },
   "outputs": [],
   "source": [
    "message = 'Artificial Intelligence'"
   ]
  },
  {
   "cell_type": "markdown",
   "metadata": {
    "Collapsed": "false",
    "hidden": true
   },
   "source": [
    "<span style=\"color:red\">연습 1.13</span>   \n",
    "변수 message 의 자료형은?"
   ]
  },
  {
   "cell_type": "markdown",
   "metadata": {
    "Collapsed": "false",
    "hidden": true
   },
   "source": [
    "변수의 자료형은  프로그램 내에서도 위치에 따라 바뀔 수 있다."
   ]
  },
  {
   "cell_type": "code",
   "execution_count": null,
   "metadata": {
    "Collapsed": "false",
    "hidden": true
   },
   "outputs": [],
   "source": [
    "x = 7 * 9 + 13 \n",
    "print(type( x )) \n",
    "x = \"Artificial Intelligence\" \n",
    "print(type(x) ) \n",
    "x =  15 / 4  + 5\n",
    "print(type(x ))"
   ]
  },
  {
   "cell_type": "markdown",
   "metadata": {
    "Collapsed": "false",
    "heading_collapsed": true,
    "hidden": true
   },
   "source": [
    "## 3.  변수 이름 과 예약어"
   ]
  },
  {
   "cell_type": "markdown",
   "metadata": {
    "Collapsed": "false",
    "hidden": true
   },
   "source": [
    "다음 규칙은 반드시 지켜야 한다.\n",
    "* 변수명은 문자(letter)나 밑줄(\\_ underscore)로 시작해야 한다. \n",
    "* 변수명은 문자(letter)와 밑줄(\\_), 숫자로 이루어져야 한다. \n",
    "* 변수명은 예약어(reserved word)를 사용해서는 안된다."
   ]
  },
  {
   "cell_type": "markdown",
   "metadata": {
    "Collapsed": "false",
    "hidden": true
   },
   "source": [
    "다음은 프로그래머들 사이에서 일반적으로 지키는게 좋다고 알려진 내용이다. \n",
    "* 함수명과 동일한 변수명을 사용하지 않는다.\n",
    "* 의미있는 변수이름을 고른다. (예: 시간을 나타내는 변수명으로는 x 보다는 hour 가 더 좋다.)\n",
    "* 일반적으로 대문자 보다는 소문자를 사용하는 경향이다. (특별한 경우 대문자를 사용)\n",
    "* 첫 변수명을 대문자로 사용해도 되지만 소문자로 변수명을 시작하는 것도 좋은 생각이다. (후에 왜 그런지 보게 될 것이다.)   \n",
    "* 변수이름을 밑줄로 시작해서 작성할 수 있지만, 일반적으로 밑줄로 시작하는 변수명은 피한다.  \n",
    "* 변수이름이 여러 단어로 이루어진 경우,  my_name 혹은 speed_of_tiger 처럼 밑줄을 단어 사이에 추가한다.   "
   ]
  },
  {
   "cell_type": "markdown",
   "metadata": {
    "Collapsed": "false",
    "hidden": true
   },
   "source": [
    "<div class=\"alert alert-danger\" role=\"alert\">\n",
    "  <strong>변수명을 적합하게 작성하지 못하다면, 구문(문법) 오류 (SyntaxError)가 발생한다.</strong> \n",
    "</div>"
   ]
  },
  {
   "cell_type": "markdown",
   "metadata": {
    "Collapsed": "false",
    "hidden": true
   },
   "source": [
    "다음 문장들이 에러가 발생하는지 알아보자."
   ]
  },
  {
   "cell_type": "code",
   "execution_count": null,
   "metadata": {
    "Collapsed": "false",
    "hidden": true
   },
   "outputs": [],
   "source": [
    "W=5\n",
    "\n",
    "w"
   ]
  },
  {
   "cell_type": "code",
   "execution_count": null,
   "metadata": {
    "Collapsed": "false",
    "hidden": true
   },
   "outputs": [],
   "source": [
    "x76 = 'samsung'"
   ]
  },
  {
   "cell_type": "code",
   "execution_count": null,
   "metadata": {
    "Collapsed": "false",
    "hidden": true
   },
   "outputs": [],
   "source": [
    "76trombones = 'big parade'"
   ]
  },
  {
   "cell_type": "code",
   "execution_count": null,
   "metadata": {
    "Collapsed": "false",
    "hidden": true
   },
   "outputs": [],
   "source": [
    "more@ = 1000000"
   ]
  },
  {
   "cell_type": "code",
   "execution_count": null,
   "metadata": {
    "Collapsed": "false",
    "hidden": true
   },
   "outputs": [],
   "source": [
    "class = 'Advanced Theoretical Zymurgy'"
   ]
  },
  {
   "cell_type": "markdown",
   "metadata": {
    "Collapsed": "false",
    "hidden": true
   },
   "source": [
    "\n",
    "76trombones 변수명은 문자로 시작하지 않아서 적합하지 않다.  \n",
    "more@은 특수문자 (@)를 변수명에 포함해서 적합하지 않다.  \n",
    "하지만, class 변수명은 뭐가 잘못된 것일까?  \n",
    "Syntax error의 이유는 class가 파이썬의 key word 중의 하나이기 때문이다.   \n",
    "Key word는 interpreter가 프로그램 구조를 파악하기 위해서 사용하는 단어로, 변수명으로는 사용할 수 없다.\n",
    "\n",
    "파이썬에서는 아래의 31개 key word를 사용하고 있다.\n"
   ]
  },
  {
   "cell_type": "markdown",
   "metadata": {
    "Collapsed": "false",
    "hidden": true
   },
   "source": [
    "**<pre>and \t\t   del \t\t from \t    not \t\t while\n",
    "as \t\t    elif \t\tglobal \t  or \t\t  with\n",
    "assert \t    else \t\tif \t\t  pass \t\tyield\n",
    "break \t\t except \t  import \t  print\n",
    "class \t\t exec \t\tin \t\t  raise\n",
    "continue \t  finally \t is           return\t\n",
    "def \t\t   for \t\t lambda       try</pre>**\n"
   ]
  },
  {
   "cell_type": "markdown",
   "metadata": {
    "Collapsed": "false",
    "hidden": true
   },
   "source": [
    "#### 다음 두 프로그램중 어느 프로그램이 더 이해하기 쉬운가?"
   ]
  },
  {
   "cell_type": "code",
   "execution_count": null,
   "metadata": {
    "Collapsed": "false",
    "hidden": true
   },
   "outputs": [],
   "source": [
    "a = 3.14159265 \n",
    "b = 7.5 \n",
    "c = 8.25 \n",
    "d = a * b * b * c / 3 \n",
    "print( d )"
   ]
  },
  {
   "cell_type": "code",
   "execution_count": null,
   "metadata": {
    "Collapsed": "false",
    "hidden": true
   },
   "outputs": [],
   "source": [
    "pi = 3.14159265 \n",
    "radius = 7.5 \n",
    "height = 8.25 \n",
    "volume_of_cone = pi * radius * radius * height / 3 \n",
    "print( volume_of_cone )"
   ]
  },
  {
   "cell_type": "markdown",
   "metadata": {
    "Collapsed": "false",
    "hidden": true
   },
   "source": [
    "프로그램의 길이가 몇 백줄, 몇 천줄을 훨씬 넘을 수 있다. 몇 백줄 후에 반지름을 나타내는 변수를 다시 사용해야 한다고 가정하자. b 와 radius 중 어떤 변수를 사용하는 것이 좋았을까?"
   ]
  },
  {
   "cell_type": "markdown",
   "metadata": {
    "Collapsed": "false",
    "heading_collapsed": true,
    "hidden": true
   },
   "source": [
    "## 4.  문장(Statement)  "
   ]
  },
  {
   "cell_type": "markdown",
   "metadata": {
    "Collapsed": "false",
    "hidden": true
   },
   "source": [
    "문장(statement)은 파이썬 Interpreter가 실행하는 코드의 단위로 하나의 action 이나 명령을 나타낸다.  \n",
    "인터랙트브 모드에서 문장을 입력하면, 인터프리터는 문장을 실행하고, 만약 출력할 것이 있다면 결과를 화면에 출력한다.  \n",
    "프로그램 코드는 보통 여러 줄의 문장으로 구성된다. 하나 이상의 문장이 있다면, 문장이 실행되어감에 따라 결과가 나타난다. \n",
    "\n",
    "예를 들어, 다음의 코드를 실행해보자.\n"
   ]
  },
  {
   "cell_type": "code",
   "execution_count": null,
   "metadata": {
    "Collapsed": "false",
    "hidden": true
   },
   "outputs": [],
   "source": [
    "print(1)\n",
    "x = 2\n",
    "print(x)"
   ]
  },
  {
   "cell_type": "markdown",
   "metadata": {
    "Collapsed": "false",
    "hidden": true
   },
   "source": [
    "\n",
    "위 코드는 다음 결과를 출력한다.\n",
    "\n",
    " 1        \n",
    " 2\n",
    "\n",
    "대입 문장(x=2)은 결과를 출력하지 않는다.\n",
    "\n",
    "<span style=\"color:red\">x = 2 는 변수 x 에 값 2를 대입하라(저장하라, 배정하라)는 문장이다.\n"
   ]
  },
  {
   "cell_type": "markdown",
   "metadata": {
    "Collapsed": "false",
    "hidden": true
   },
   "source": [
    "한 줄에 두 문장을 같이 놓으면 어떻게 될까?"
   ]
  },
  {
   "cell_type": "code",
   "execution_count": null,
   "metadata": {
    "Collapsed": "false",
    "hidden": true
   },
   "outputs": [],
   "source": [
    "print(1) x = 2\n",
    "print(x)"
   ]
  },
  {
   "cell_type": "code",
   "execution_count": null,
   "metadata": {
    "Collapsed": "false",
    "hidden": true
   },
   "outputs": [],
   "source": [
    "print(1); x = 2; print(x)"
   ]
  },
  {
   "cell_type": "markdown",
   "metadata": {
    "Collapsed": "false",
    "hidden": true
   },
   "source": [
    "그러나, 한 줄에 두 문장 이상이 오는 경우는 극히 드물다."
   ]
  },
  {
   "cell_type": "markdown",
   "metadata": {
    "Collapsed": "false",
    "heading_collapsed": true,
    "hidden": true
   },
   "source": [
    "## 5.  연산자(연산기호, Operator)와 피연산자(Operand)"
   ]
  },
  {
   "cell_type": "markdown",
   "metadata": {
    "Collapsed": "false",
    "hidden": true
   },
   "source": [
    "  \n",
    "연산자는 덧셈, 곱셈 같이 계산을 표현하는 기호이다.   \n",
    "연산자에 적용되는 값을 피연산자라고 한다.  \n",
    "\n",
    "수학 연산자로는 덧셈, 뺄셈, 곱셈, 나눗셈 연산자가 있다.  \n",
    "\n",
    " 2 + 3 에서 연산자는 + 이고, 피연산자는 2와 3 이다.\n",
    " \n",
    " "
   ]
  },
  {
   "cell_type": "markdown",
   "metadata": {
    "Collapsed": "false",
    "hidden": true
   },
   "source": [
    "<span style=\"color:red\">연습 1.14</span>   \n",
    "hour에 2 + 3을 대입한 후, hour의 값을 인쇄하시오."
   ]
  },
  {
   "cell_type": "markdown",
   "metadata": {
    "Collapsed": "false",
    "heading_collapsed": true,
    "hidden": true
   },
   "source": [
    "## 6. 표현식 (Expression)"
   ]
  },
  {
   "cell_type": "markdown",
   "metadata": {
    "Collapsed": "false",
    "hidden": true
   },
   "source": [
    "* 표현식(expression)은 값, 변수, 연산자의 조합이다.  \n",
    "* 값은 자체로 표현식이고, 변수도 표현식이다.  "
   ]
  },
  {
   "cell_type": "markdown",
   "metadata": {
    "Collapsed": "false",
    "hidden": true
   },
   "source": [
    "따라서 다음은 적합한 표현식이다. (변수 x는 이미 어떤 값이 대입되었다고 가정한다.)\n",
    "\n",
    "17\n",
    "\n",
    "x\n",
    "\n",
    "x + 17\n",
    "\n",
    "Interactive mode에서 expression을 입력하면, interpreter는 expression을 평가(evaluate)\n",
    "하고 값을 표시한다.\n",
    "\n",
    "위 표현식을 한 셀에 하나씩 입력하고 실행해 보자"
   ]
  },
  {
   "cell_type": "code",
   "execution_count": null,
   "metadata": {
    "Collapsed": "false",
    "hidden": true
   },
   "outputs": [],
   "source": []
  },
  {
   "cell_type": "code",
   "execution_count": null,
   "metadata": {
    "Collapsed": "false",
    "hidden": true
   },
   "outputs": [],
   "source": []
  },
  {
   "cell_type": "code",
   "execution_count": null,
   "metadata": {
    "Collapsed": "false",
    "hidden": true
   },
   "outputs": [],
   "source": []
  },
  {
   "cell_type": "markdown",
   "metadata": {
    "Collapsed": "false",
    "hidden": true
   },
   "source": [
    "<span style=\"color:red\">** 하지만, 여러 줄로된 코드에서는 expression 자체로 어떠한 것도 수행하지는 않는다.**</span> \n",
    "초심자에게 혼란스러운 점이다."
   ]
  },
  {
   "cell_type": "markdown",
   "metadata": {
    "Collapsed": "false",
    "hidden": true
   },
   "source": [
    "<span style=\"color:red\">연습 1.15</span>   \n",
    "Python Interactive mode에 다음 세 문장을 하나의 셀에 입력하고 결과를 보라.    \n",
    "x = 20  \n",
    "x + 1   \n",
    "x + 20"
   ]
  },
  {
   "cell_type": "markdown",
   "metadata": {
    "Collapsed": "false",
    "heading_collapsed": true,
    "hidden": true
   },
   "source": [
    "## 7.  연산자 적용 우선순위 (Order of Operations)\n"
   ]
  },
  {
   "cell_type": "markdown",
   "metadata": {
    "Collapsed": "false",
    "hidden": true
   },
   "source": [
    "\n",
    "expression에 1개 이상의 operator가 있을 때, operator 평가 순서는 우선순위 규칙에 따른다.  \n",
    "수학연산자에 대한 우선순위는 수학적 관례를 동일하게 따른다.  \n",
    "1순위: 괄호    \n",
    "2순위: 지수승  \n",
    "3순위: 곱셈 과 나눗셈  \n",
    "4순위: 덧셈, 뺄셈  \n",
    "\n",
    "같은 실행 순위를 갖는 연산자는 왼쪽에서부터 오른쪽으로 실행된다.\n"
   ]
  },
  {
   "cell_type": "markdown",
   "metadata": {
    "Collapsed": "false",
    "heading_collapsed": true,
    "hidden": true
   },
   "source": [
    "## 8. 곱셈, 나눗셈의 주의사항 "
   ]
  },
  {
   "cell_type": "markdown",
   "metadata": {
    "Collapsed": "false",
    "hidden": true
   },
   "source": [
    "<span style=\"color:red\">**Python 2에서는 곱셈 또는 나눗셈에서, operland가 모두 정수면, 그 결과는 정수다.**</span> \n",
    "<br><br>"
   ]
  },
  {
   "cell_type": "markdown",
   "metadata": {
    "Collapsed": "false",
    "heading_collapsed": true,
    "hidden": true
   },
   "source": [
    "## 9. 몫 연산자와 나머지 연산자 (Modulus Operator)"
   ]
  },
  {
   "cell_type": "markdown",
   "metadata": {
    "Collapsed": "false",
    "hidden": true
   },
   "source": [
    "\n",
    "몫 연산자는 첫 번째 operland를 두 번째 operland로 나눌 때의 몫을 생성한다.   \n",
    "몫 연산자는 기호(//)다"
   ]
  },
  {
   "cell_type": "code",
   "execution_count": null,
   "metadata": {
    "Collapsed": "false",
    "hidden": true
   },
   "outputs": [],
   "source": [
    "x = 9 // 2\n",
    "print(x)"
   ]
  },
  {
   "cell_type": "code",
   "execution_count": null,
   "metadata": {
    "Collapsed": "false",
    "hidden": true
   },
   "outputs": [],
   "source": [
    "y = 17 // 4.5\n",
    "print(y)"
   ]
  },
  {
   "cell_type": "markdown",
   "metadata": {
    "Collapsed": "false",
    "hidden": true
   },
   "source": [
    "<br><br>\n",
    "첫번째 연산자는 첫 번째 피연산자를 두 번째 피연산자로 나눌 때의 나머지 값을 생성한다.   \n",
    "나머지 연산자는 퍼센트 기호(%)다."
   ]
  },
  {
   "cell_type": "code",
   "execution_count": null,
   "metadata": {
    "Collapsed": "false",
    "hidden": true
   },
   "outputs": [],
   "source": [
    "x = 9 % 2\n",
    "print(x)"
   ]
  },
  {
   "cell_type": "code",
   "execution_count": null,
   "metadata": {
    "Collapsed": "false",
    "hidden": true
   },
   "outputs": [],
   "source": [
    "y = 17 % 4.5\n",
    "print(y)"
   ]
  },
  {
   "cell_type": "markdown",
   "metadata": {
    "Collapsed": "false",
    "hidden": true
   },
   "source": [
    "<br><br>\n",
    "나머지 연산자는 매우 유용하다.   \n",
    "예를 들어, 한 숫자를 다른 숫자로 나눌 수 있는지 없는지를 확인할 수 있다.  \n",
    "x % y 값이 0 이라면, x를 y로 나눌 수 있다.  \n",
    "\n",
    "또한, 숫자에서 가장 오른쪽 숫자를 분리하는데도 사용된다.   \n",
    "예를 들어 x % 10 은 x가 10진수인 경우 가장 오른쪽 숫자를 뽑아낼 수 있고,   \n",
    "동일한 방식으로 x % 100 은 가장 오른쪽 2개 숫자를 뽑아낼 수 있다.  "
   ]
  },
  {
   "cell_type": "code",
   "execution_count": null,
   "metadata": {
    "Collapsed": "false",
    "hidden": true
   },
   "outputs": [],
   "source": [
    "x= 1234\n",
    "y= 7"
   ]
  },
  {
   "cell_type": "markdown",
   "metadata": {
    "Collapsed": "false",
    "hidden": true
   },
   "source": [
    "<br><br><span style=\"color:red\">연습 1.16 </span>  \n",
    "x는 y의 배수인지를 알아보는 코딩을 하시오."
   ]
  },
  {
   "cell_type": "markdown",
   "metadata": {
    "Collapsed": "false",
    "hidden": true
   },
   "source": [
    "<br><br><span style=\"color:red\">연습 1.17 </span>  \n",
    "x의 1의 자리 숫자를 추출하는 코딩을 하시오."
   ]
  },
  {
   "cell_type": "markdown",
   "metadata": {
    "Collapsed": "false",
    "hidden": true
   },
   "source": [
    "<br><br><span style=\"color:red\">연습 1.18 </span>  \n",
    "x의 10의 자리 숫자를 추출하는 코딩을 하시오."
   ]
  },
  {
   "cell_type": "markdown",
   "metadata": {
    "Collapsed": "false",
    "hidden": true
   },
   "source": [
    "<br><br><span style=\"color:red\">연습 1.19 </span>  \n",
    "x의 100의 자리 숫자를 추출하는 코딩을 하시오."
   ]
  },
  {
   "cell_type": "markdown",
   "metadata": {
    "Collapsed": "false",
    "heading_collapsed": true,
    "hidden": true
   },
   "source": [
    "## 10.  + 연산자"
   ]
  },
  {
   "cell_type": "markdown",
   "metadata": {
    "Collapsed": "false",
    "hidden": true
   },
   "source": [
    "\\+ 연산자가 숫자와 함께 쓰이면 덧셈이다.  \n",
    "\\+ 연산자가 문자열에서 사용되면 문자열 끝과 끝을 붙이는 연결(concatenation) 작업을 수행한다."
   ]
  },
  {
   "cell_type": "markdown",
   "metadata": {
    "Collapsed": "false",
    "hidden": true
   },
   "source": [
    "<br><br><span style=\"color:red\">연습 1.20 </span>    \n",
    "다음의 결과를 예측 해보자.  \n",
    "\n",
    "first = 10   \n",
    "second = 15   \n",
    "print(first+second)  \n",
    "\n",
    "이제 코딩을 하여 확인해보자."
   ]
  },
  {
   "cell_type": "markdown",
   "metadata": {
    "Collapsed": "false",
    "hidden": true
   },
   "source": [
    "<br><br><span style=\"color:red\">연습 1.21 </span>  \n",
    "그러면, 다음의 결과는 무엇일까?  \n",
    "\n",
    "first = 'abc'  \n",
    "second = 'def'  \n",
    "print(first + second)  \n",
    "\n",
    "코딩을 하여 확인해보자."
   ]
  },
  {
   "cell_type": "markdown",
   "metadata": {
    "Collapsed": "false",
    "hidden": true
   },
   "source": [
    "<br><br><span style=\"color:red\">연습 1.22 </span>    \n",
    "위 프로그램을 한 문장으로 코딩하시오."
   ]
  },
  {
   "cell_type": "markdown",
   "metadata": {
    "Collapsed": "false",
    "hidden": true
   },
   "source": [
    "<br><br><span style=\"color:red\">연습 1.23 </span>  \n",
    "그러면, 다음의 결과는 무엇일까?  \n",
    "\n",
    "first = '10'  \n",
    "second = '15'  \n",
    "print(first + second)  \n",
    "\n",
    "코딩을 하여 확인해보자."
   ]
  },
  {
   "cell_type": "markdown",
   "metadata": {
    "Collapsed": "false",
    "hidden": true
   },
   "source": [
    "<br><br><span style=\"color:red\">연습 1.24 </span>  \n",
    "다음의 결과를 예측 해보자\n",
    "\n",
    "first = 10    \n",
    "second = '15'   \n",
    "print(first+second) \n",
    "\n",
    "코딩을 하여 확인해보자."
   ]
  },
  {
   "cell_type": "markdown",
   "metadata": {
    "Collapsed": "false"
   },
   "source": [
    "<br><br>"
   ]
  },
  {
   "cell_type": "markdown",
   "metadata": {
    "Collapsed": "false",
    "heading_collapsed": true,
    "hidden": true
   },
   "source": [
    "## 11.  * 연산자"
   ]
  },
  {
   "cell_type": "markdown",
   "metadata": {
    "Collapsed": "false",
    "hidden": true
   },
   "source": [
    "\\* 연산자가 숫자와 함께 쓰이면 곱셈이다.  \n",
    "\\* 연산자가 문자열에서 사용되면 문자열을 정해진 횟수만큼 반복하여 붙이는 연결(concatenation) 작업을 수행한다."
   ]
  },
  {
   "cell_type": "markdown",
   "metadata": {
    "Collapsed": "false",
    "hidden": true
   },
   "source": [
    "<br><br><span style=\"color:red\">연습 1.25 </span>    \n",
    "다음의 결과를 예측 해보자.  \n",
    "\n",
    "first = 10   \n",
    "second = 15   \n",
    "print(first* second)  \n",
    "\n",
    "이제 코딩을 하여 확인해보자."
   ]
  },
  {
   "cell_type": "markdown",
   "metadata": {
    "Collapsed": "false",
    "hidden": true
   },
   "source": [
    "<br><br><span style=\"color:red\">연습 1.26 </span>  \n",
    "그러면, 다음의 결과는 무엇일까?  \n",
    "\n",
    "first = 'abc'  \n",
    "second = 'def'  \n",
    "print(first * second)  \n",
    "\n",
    "코딩을 하여 확인해보자."
   ]
  },
  {
   "cell_type": "markdown",
   "metadata": {
    "Collapsed": "false",
    "hidden": true
   },
   "source": [
    "<br><br><span style=\"color:red\">연습 1.27 </span>  \n",
    "그러면, 다음의 결과는 무엇일까?  \n",
    "\n",
    "first = '10'  \n",
    "second = '15'  \n",
    "print(first * second)  \n",
    "\n",
    "코딩을 하여 확인해보자."
   ]
  },
  {
   "cell_type": "markdown",
   "metadata": {
    "Collapsed": "false",
    "hidden": true
   },
   "source": [
    "<br><br><span style=\"color:red\">연습 1.28 </span>  \n",
    "다음의 결과를 예측 해보자\n",
    "\n",
    "first = 'abc'    \n",
    "second = 3   \n",
    "print(first * second) \n",
    "\n",
    "코딩을 하여 확인해보자."
   ]
  },
  {
   "cell_type": "markdown",
   "metadata": {
    "Collapsed": "false",
    "hidden": true
   },
   "source": [
    "<br><br><span style=\"color:red\">연습 1.29 </span>  \n",
    "다음의 결과를 예측 해보자\n",
    "\n",
    "first = 3   \n",
    "second = 'abc'   \n",
    "print(first * second) \n",
    "\n",
    "코딩을 하여 확인해보자."
   ]
  },
  {
   "cell_type": "markdown",
   "metadata": {
    "Collapsed": "false",
    "hidden": true
   },
   "source": [
    "<br><br><span style=\"color:red\">연습 1.30 </span>  \n",
    "다음의 결과를 예측 해보자\n",
    "\n",
    "first = '26'   \n",
    "second = 3   \n",
    "print(first * second) \n",
    "\n",
    "코딩을 하여 확인해보자."
   ]
  },
  {
   "cell_type": "markdown",
   "metadata": {
    "Collapsed": "false"
   },
   "source": [
    "<br><br>"
   ]
  },
  {
   "cell_type": "markdown",
   "metadata": {
    "Collapsed": "false",
    "heading_collapsed": true,
    "hidden": true
   },
   "source": [
    "## 12.  연산기호 +=     -=    *=    /="
   ]
  },
  {
   "cell_type": "markdown",
   "metadata": {
    "Collapsed": "false"
   },
   "source": [
    " +=  \n",
    " -=  \n",
    " *=  \n",
    "  /="
   ]
  },
  {
   "cell_type": "markdown",
   "metadata": {
    "Collapsed": "false"
   },
   "source": [
    "x += 1 -----> x = x + 1"
   ]
  },
  {
   "cell_type": "markdown",
   "metadata": {
    "Collapsed": "false",
    "hidden": true
   },
   "source": [
    "x += 1 은  x = x +1 과 동일하다.\n",
    "<br><br>"
   ]
  },
  {
   "cell_type": "markdown",
   "metadata": {
    "Collapsed": "false",
    "heading_collapsed": true,
    "hidden": true
   },
   "source": [
    "## 13.  자료형 변환 (Type Casting)"
   ]
  },
  {
   "cell_type": "markdown",
   "metadata": {
    "Collapsed": "false",
    "hidden": true
   },
   "source": [
    "때로는 자료형을 다른 자료형으로 변환해야 할 필요가 있다.  \n",
    "이 경우, 가장 널리 쓰이는 함수는 다음과 같다.\n",
    "* int( ): 정수형으로 변환한다. 소수점 이하는 버린다.\n",
    "* float( ): 실수형으로 변환한다. 필요하면 .0 을 추가한다.\n",
    "* str( ): 문자열형으로 변환한다."
   ]
  },
  {
   "cell_type": "code",
   "execution_count": null,
   "metadata": {
    "Collapsed": "false",
    "hidden": true
   },
   "outputs": [],
   "source": [
    "x = 15/4\n",
    "y = int(x)\n",
    "print(y)"
   ]
  },
  {
   "cell_type": "code",
   "execution_count": null,
   "metadata": {
    "Collapsed": "false",
    "hidden": true
   },
   "outputs": [],
   "source": [
    "x = 3\n",
    "y=float(x)\n",
    "print(y)"
   ]
  },
  {
   "cell_type": "code",
   "execution_count": null,
   "metadata": {
    "Collapsed": "false",
    "hidden": true
   },
   "outputs": [],
   "source": [
    "print(\"You have \" + str(3) + \" books.\")"
   ]
  },
  {
   "cell_type": "code",
   "execution_count": null,
   "metadata": {
    "Collapsed": "false",
    "hidden": true
   },
   "outputs": [],
   "source": [
    "print(\"You have \" + 3 + \" books.\")"
   ]
  },
  {
   "cell_type": "code",
   "execution_count": null,
   "metadata": {
    "Collapsed": "false",
    "hidden": true
   },
   "outputs": [],
   "source": [
    "print(\"You have \", 3, \" books.\")"
   ]
  },
  {
   "cell_type": "code",
   "execution_count": null,
   "metadata": {
    "Collapsed": "false",
    "hidden": true
   },
   "outputs": [],
   "source": [
    "print(\"You have\", 3, \"books.\")"
   ]
  },
  {
   "cell_type": "code",
   "execution_count": null,
   "metadata": {
    "Collapsed": "false",
    "hidden": true
   },
   "outputs": [],
   "source": [
    "x=3\n",
    "print(\"You have\", x, \"books.\")"
   ]
  },
  {
   "cell_type": "code",
   "execution_count": null,
   "metadata": {
    "Collapsed": "false",
    "hidden": true
   },
   "outputs": [],
   "source": [
    "x=3\n",
    "print(\"You have \"+str(x)+\" books.\")"
   ]
  },
  {
   "cell_type": "markdown",
   "metadata": {
    "Collapsed": "false",
    "heading_collapsed": true,
    "hidden": true
   },
   "source": [
    "##  14. print( ) \n"
   ]
  },
  {
   "cell_type": "code",
   "execution_count": null,
   "metadata": {
    "Collapsed": "false",
    "hidden": true
   },
   "outputs": [],
   "source": [
    "print(\"Hannam Univerdity\")"
   ]
  },
  {
   "cell_type": "code",
   "execution_count": null,
   "metadata": {
    "Collapsed": "false",
    "hidden": true
   },
   "outputs": [],
   "source": [
    "print(\"나는\",\"1학년\")"
   ]
  },
  {
   "cell_type": "code",
   "execution_count": null,
   "metadata": {
    "Collapsed": "false",
    "hidden": true
   },
   "outputs": [],
   "source": [
    "print(\"나는1학년\")"
   ]
  },
  {
   "cell_type": "code",
   "execution_count": null,
   "metadata": {
    "Collapsed": "false",
    "hidden": true
   },
   "outputs": [],
   "source": [
    "print(\"나는 1학년\")"
   ]
  },
  {
   "cell_type": "code",
   "execution_count": null,
   "metadata": {
    "Collapsed": "false",
    "hidden": true
   },
   "outputs": [],
   "source": [
    "print(1)"
   ]
  },
  {
   "cell_type": "code",
   "execution_count": null,
   "metadata": {
    "Collapsed": "false",
    "hidden": true
   },
   "outputs": [],
   "source": [
    "print(\"나는\",1,\"학년\")"
   ]
  },
  {
   "cell_type": "code",
   "execution_count": null,
   "metadata": {
    "Collapsed": "false",
    "hidden": true
   },
   "outputs": [],
   "source": [
    "print(\"나는\",\"1\",\"학년\")"
   ]
  },
  {
   "cell_type": "code",
   "execution_count": null,
   "metadata": {
    "Collapsed": "false",
    "hidden": true
   },
   "outputs": [],
   "source": [
    "print(\"나는 \"+1+\"학년\")"
   ]
  },
  {
   "cell_type": "code",
   "execution_count": null,
   "metadata": {
    "Collapsed": "false",
    "hidden": true
   },
   "outputs": [],
   "source": [
    "print(\"나는 \"+\"1\"+\"학년\")"
   ]
  },
  {
   "cell_type": "code",
   "execution_count": null,
   "metadata": {
    "Collapsed": "false",
    "hidden": true
   },
   "outputs": [],
   "source": [
    "x=1\n",
    "print(\"나는 x학년\")"
   ]
  },
  {
   "cell_type": "code",
   "execution_count": null,
   "metadata": {
    "Collapsed": "false",
    "hidden": true
   },
   "outputs": [],
   "source": [
    "x=1\n",
    "print(\"나는\"+x+\"학년\")"
   ]
  },
  {
   "cell_type": "code",
   "execution_count": null,
   "metadata": {
    "Collapsed": "false",
    "hidden": true
   },
   "outputs": [],
   "source": [
    "x=1\n",
    "print(\"나는 \"+\"x\"+\"학년\")"
   ]
  },
  {
   "cell_type": "code",
   "execution_count": null,
   "metadata": {
    "Collapsed": "false",
    "hidden": true
   },
   "outputs": [],
   "source": [
    "x=1\n",
    "print(\"나는 \"+str(x)+\"학년\")"
   ]
  },
  {
   "cell_type": "code",
   "execution_count": null,
   "metadata": {
    "Collapsed": "false",
    "hidden": true
   },
   "outputs": [],
   "source": [
    "print(\"나는\")\n",
    "print(\"1학년\")"
   ]
  },
  {
   "cell_type": "code",
   "execution_count": null,
   "metadata": {
    "Collapsed": "false",
    "hidden": true
   },
   "outputs": [],
   "source": [
    "print(\"나는\",end='\\n')\n",
    "print(\"1학년\")"
   ]
  },
  {
   "cell_type": "code",
   "execution_count": null,
   "metadata": {
    "Collapsed": "false",
    "hidden": true
   },
   "outputs": [],
   "source": [
    "print(\"나는\\n1학년\")"
   ]
  },
  {
   "cell_type": "code",
   "execution_count": null,
   "metadata": {
    "Collapsed": "false",
    "hidden": true
   },
   "outputs": [],
   "source": [
    "print(\"나는\",end='')\n",
    "print(\"1학년\")"
   ]
  },
  {
   "cell_type": "code",
   "execution_count": null,
   "metadata": {
    "Collapsed": "false",
    "hidden": true
   },
   "outputs": [],
   "source": [
    "print(\"나는\",end='@@@')\n",
    "print(\"1학년\")"
   ]
  },
  {
   "cell_type": "code",
   "execution_count": null,
   "metadata": {
    "Collapsed": "false",
    "hidden": true
   },
   "outputs": [],
   "source": [
    "# 모두 동일한 문장\n",
    "print(  2 + 3 ) \n",
    "print(2+3)\n",
    "print   (  2    +           3     )"
   ]
  },
  {
   "cell_type": "code",
   "execution_count": null,
   "metadata": {
    "Collapsed": "false",
    "hidden": true
   },
   "outputs": [],
   "source": [
    "x = 2 \n",
    "y = 3 "
   ]
  },
  {
   "cell_type": "code",
   "execution_count": null,
   "metadata": {
    "Collapsed": "false",
    "hidden": true
   },
   "outputs": [],
   "source": [
    "print( \"x =\", x ) "
   ]
  },
  {
   "cell_type": "code",
   "execution_count": null,
   "metadata": {
    "Collapsed": "false",
    "hidden": true
   },
   "outputs": [],
   "source": [
    "print( \"y =\", y ) "
   ]
  },
  {
   "cell_type": "code",
   "execution_count": null,
   "metadata": {
    "Collapsed": "false",
    "hidden": true
   },
   "outputs": [],
   "source": [
    "print( \"x * y =\", x * y ) "
   ]
  },
  {
   "cell_type": "code",
   "execution_count": null,
   "metadata": {
    "Collapsed": "false",
    "hidden": true
   },
   "outputs": [],
   "source": [
    "print( \"x + y =\", x + y )"
   ]
  },
  {
   "cell_type": "markdown",
   "metadata": {
    "Collapsed": "false",
    "heading_collapsed": true,
    "hidden": true
   },
   "source": [
    "## 15.  사용자에게서 입력값 받기"
   ]
  },
  {
   "cell_type": "markdown",
   "metadata": {
    "Collapsed": "false",
    "hidden": true
   },
   "source": [
    "input( ) 이라는 내장(built-in)함수가 호출되면,   \n",
    "파이썬은 실행을 멈추고 사용자가 무언가 입력하기를 기다린다.   \n",
    "사용자가 Return (리턴) 키 혹은 Enter (엔터) 키를 누르면 프로그램이 다시 실행되고, \n",
    "input( )은 사용자가 입력한 것을 <span style=\"color:red\">**문자열**</span>로 반환한다. \n",
    "(파이썬 2 에서 이에 해당하는 함수는 raw_input() 이다.)"
   ]
  },
  {
   "cell_type": "markdown",
   "metadata": {
    "Collapsed": "false",
    "hidden": true
   },
   "source": [
    "<div class=\"alert alert-danger\" role=\"alert\">\n",
    "  <strong>input( )을 실행한 결과로 반환되는 값은 문자열이다.</strong> \n",
    "</div>"
   ]
  },
  {
   "cell_type": "markdown",
   "metadata": {
    "Collapsed": "false",
    "hidden": true
   },
   "source": [
    "<div class=\"alert alert-danger\" role=\"alert\">\n",
    "  <strong>input( )을 실행한 결과로 반환되는 값은 문자열이다.</strong> \n",
    "</div>"
   ]
  },
  {
   "cell_type": "markdown",
   "metadata": {
    "Collapsed": "false",
    "hidden": true
   },
   "source": [
    "<div class=\"alert alert-danger\" role=\"alert\">\n",
    "  <strong>input( )을 실행한 결과로 반환되는 값은 문자열이다.</strong> \n",
    "</div>"
   ]
  },
  {
   "cell_type": "markdown",
   "metadata": {
    "Collapsed": "false",
    "hidden": true
   },
   "source": [
    "<div class=\"alert alert-danger\" role=\"alert\">\n",
    "  <strong>input( )을 실행한 결과로 반환되는 값은 문자열이다.</strong> \n",
    "</div>"
   ]
  },
  {
   "cell_type": "markdown",
   "metadata": {
    "Collapsed": "false",
    "hidden": true
   },
   "source": [
    "\n",
    "<img style=\"float: left;\" src='pic/pic_0_1.png'> \n",
    "  <br><br> <span style=\"color:red\"> **수 많은 선배들이 input( ) 때문에 학점과 연습문제 푸는 시간에 엄청난 손해를 보았다.**</span>\n"
   ]
  },
  {
   "cell_type": "markdown",
   "metadata": {
    "Collapsed": "false",
    "hidden": true
   },
   "source": [
    "<br><br><span style=\"color:red\">연습 1.31 </span>  \n",
    "아래 셀을 실행하면, 셀 아래에 파란 상자가 나타나며, 사용자의 입력을 기다린다.  \n",
    "hannam 이라고 타이핑 한 후 enter 키를 누르자.  \n",
    "x의 데이터 타입은 ?"
   ]
  },
  {
   "cell_type": "code",
   "execution_count": null,
   "metadata": {
    "Collapsed": "false",
    "hidden": true
   },
   "outputs": [],
   "source": [
    "x=input()\n",
    "print(x)\n",
    "print(type(x))"
   ]
  },
  {
   "cell_type": "markdown",
   "metadata": {
    "Collapsed": "false",
    "hidden": true
   },
   "source": [
    "<br><br><span style=\"color:red\">연습 1.32 </span>  \n",
    "아래 셀을 실행하여,\n",
    "5 이라고 타이핑 한 후 enter 키를 누르자.  \n",
    "x의 데이터 타입은 ?"
   ]
  },
  {
   "cell_type": "code",
   "execution_count": null,
   "metadata": {
    "Collapsed": "false",
    "hidden": true
   },
   "outputs": [],
   "source": [
    "x=input()\n",
    "print(x)\n",
    "print(type(x))"
   ]
  },
  {
   "cell_type": "markdown",
   "metadata": {
    "Collapsed": "false",
    "hidden": true
   },
   "source": [
    "<br><br><span style=\"color:red\">연습 1.33 </span>  \n",
    "아래 셀을 실행하여,\n",
    "5.6 이라고 타이핑 한 후 enter 키를 누르자.  \n",
    "x의 데이터 타입은 ?"
   ]
  },
  {
   "cell_type": "code",
   "execution_count": null,
   "metadata": {
    "Collapsed": "false",
    "hidden": true
   },
   "outputs": [],
   "source": [
    "x=input()\n",
    "print(x)\n",
    "print(type(x))"
   ]
  },
  {
   "cell_type": "markdown",
   "metadata": {
    "Collapsed": "false",
    "hidden": true
   },
   "source": [
    "<br><br>\n",
    "사용자로부터 입력 받기 전에 프롬프트에서 사용자가 어떤 값을 입력해야 하는 지 정보를 제공하는 것이 좋다.   \n",
    "입력을 받기 위해 잠시 멈춰있을 때 어떤 입력을 기다리고 있는지 사용자에게 표시되도록 하기 위하여,   \n",
    "input( ) 함수의 괄호 안에 사용자에게 보여질 문자열을 표기할 수 있다."
   ]
  },
  {
   "cell_type": "code",
   "execution_count": null,
   "metadata": {
    "Collapsed": "false",
    "hidden": true
   },
   "outputs": [],
   "source": [
    "x = input('What is your name?\\n')\n",
    "print(x)"
   ]
  },
  {
   "cell_type": "markdown",
   "metadata": {
    "Collapsed": "false",
    "hidden": true
   },
   "source": [
    "<br><br>\n",
    "프롬프트의 끝에 \\n 은 새로운 줄(newline)을 의미하는 것으로 줄을 바꾸게 하는 특수 문자다.   \n",
    "이런 이유 때문에 사용자가 키보드로 한 입력이 다음 줄에 출력된다.\n",
    "\n",
    "만일 \\n 이 없다면 어떻게 될까?"
   ]
  },
  {
   "cell_type": "code",
   "execution_count": null,
   "metadata": {
    "Collapsed": "false",
    "hidden": true
   },
   "outputs": [],
   "source": [
    "x = input('What is your name?')\n",
    "print(x)"
   ]
  },
  {
   "cell_type": "markdown",
   "metadata": {
    "Collapsed": "false",
    "hidden": true
   },
   "source": [
    "<br><br>\n",
    "<span style=\"color:red\">**만약 사용자가 정수를 입력하기를 바란다면, int( )함수를 사용하여 반환되는 문자열을 정수로 자료형을 변환한다.**</span> \n"
   ]
  },
  {
   "cell_type": "code",
   "execution_count": null,
   "metadata": {
    "Collapsed": "false",
    "hidden": true
   },
   "outputs": [],
   "source": [
    "year = input('올해는 몇년입니까?\\n')\n",
    "x = int(year) + 5\n",
    "print(x)"
   ]
  },
  {
   "cell_type": "markdown",
   "metadata": {
    "Collapsed": "false",
    "hidden": true
   },
   "source": [
    "<br><br>\n",
    "하지만, 사용자가 숫자 문자열이 아닌 다른 것을 입력하게 되면 오류가 발생한다.  \n",
    "다음 코드를 실행하되, 입력 프롬프트에 알파벳 aaa를 입력하자."
   ]
  },
  {
   "cell_type": "code",
   "execution_count": null,
   "metadata": {
    "Collapsed": "false",
    "hidden": true
   },
   "outputs": [],
   "source": [
    "year = input('올해는 몇년입니까?\\n')\n",
    "x = int(year) + 5\n",
    "print(x)"
   ]
  },
  {
   "cell_type": "markdown",
   "metadata": {
    "Collapsed": "false",
    "hidden": true
   },
   "source": [
    "<br><br>\n",
    "나중에 이런 종류의 오류를 어떻게 다루는지 배울 것이다."
   ]
  },
  {
   "cell_type": "markdown",
   "metadata": {
    "Collapsed": "false",
    "heading_collapsed": true,
    "hidden": true
   },
   "source": [
    "## 16.  comment(주석, 코멘트문)\n"
   ]
  },
  {
   "cell_type": "markdown",
   "metadata": {
    "Collapsed": "false",
    "hidden": true
   },
   "source": [
    "프로그램이 커지고 복잡해짐에 따라 가독성(readability)은 떨어진다.  \n",
    "이런 이유로 프로그램이 무엇을 하는지를 인간의 언어로 프로그램에 설명해 놓는 것은 좋은 생각이다.  \n",
    "이를 comment(주석, 주석문)이라고 하고 # 기호로 시작한다."
   ]
  },
  {
   "cell_type": "code",
   "execution_count": null,
   "metadata": {
    "Collapsed": "false",
    "hidden": true
   },
   "outputs": [],
   "source": [
    "# 경과한 초 단위의 시간을  분단위로 계산\n",
    "second = 90\n",
    "minute = second / 60\n",
    "print(minute) "
   ]
  },
  {
   "cell_type": "markdown",
   "metadata": {
    "Collapsed": "false",
    "hidden": true
   },
   "source": [
    "위의 경우, 주석 자체가 한 줄이다.   \n",
    "주석을 코드와 같은 줄의 맨 뒤에 놓을 수도있다.\n",
    "```python\n",
    "percentage = (minute * 100) / 60 # 경과한 초단위\n",
    "```"
   ]
  },
  {
   "cell_type": "code",
   "execution_count": null,
   "metadata": {
    "Collapsed": "false",
    "hidden": true
   },
   "outputs": [],
   "source": [
    "second = 90\n",
    "minute = second / 60  # 경과한 초 단위의 시간을 분 단위로 계산\n",
    "print(minute) "
   ]
  },
  {
   "cell_type": "markdown",
   "metadata": {
    "Collapsed": "false",
    "hidden": true
   },
   "source": [
    "\\# 뒤의 모든 것은  (즉 줄의 끝까지) 무시되기 때문에 프로그램에는 아무런 영향이 없다.  \n",
    "명확하지 않은 코드의 기능을 문서화할 때 주석은 가장 유용하다.   \n",
    "프로그램을 읽는 사람이 코드가 무엇을 하는지 설명하는 주석문을 보게 되면 도움이 된다.  \n",
    "왜 코드를 그렇게 짰는지 이유를 설명하는 것은 더욱 유용하다."
   ]
  },
  {
   "cell_type": "markdown",
   "metadata": {
    "Collapsed": "false",
    "hidden": true
   },
   "source": [
    "* 다음의 주석은 코드와 중복되어 쓸모가 없다.  \n",
    "  v = 5 &nbsp;&nbsp;&nbsp;&nbsp;&nbsp;&nbsp; # v에 5를 배정     \n",
    "<br>\n",
    "* 다음의 주석은 코드에 없는 유용한 정보가 있다.  \n",
    "  v = 5 &nbsp;&nbsp;&nbsp;&nbsp;&nbsp;&nbsp; #  v 값은 meters/second.   \n",
    "<br>\n",
    "\n",
    "* 좋은 변수명은 주석을 달 필요를 없게 만들지만, 지나치게 긴 변수명으로 인하여 표현식이 읽기 어려운 복잡한 식이 될 수 있다.  \n",
    "그래서 상충관계(trade-off)가 존재한다."
   ]
  },
  {
   "cell_type": "markdown",
   "metadata": {
    "Collapsed": "false",
    "heading_collapsed": true,
    "hidden": true
   },
   "source": [
    "## <span style=\"color:red\">** 연습문제 **</span>  "
   ]
  },
  {
   "cell_type": "markdown",
   "metadata": {
    "Collapsed": "false",
    "hidden": true
   },
   "source": [
    "<br>  \n",
    "<span style=\"color:red\">연습문제 1.1 </span>     \n",
    "변수가 다음과 같을 때, 변수와 print( ) 함수를 사용하여, <span style=\"color:orange\">당신은 서울에서 태어났습니다. </span>   라고 인쇄하는 프로그램을 작성하라.  \n",
    "\n",
    "<p style=\"font-family: Courier New; font-size: 1.15em; \">"
   ]
  },
  {
   "cell_type": "code",
   "execution_count": null,
   "metadata": {
    "Collapsed": "false",
    "hidden": true
   },
   "outputs": [],
   "source": [
    "msg2 = '당신은 '\n",
    "name = '서울'\n",
    "msg3 = '에서 태어났습니다.'\n",
    "\n"
   ]
  },
  {
   "cell_type": "markdown",
   "metadata": {
    "Collapsed": "false",
    "hidden": true
   },
   "source": [
    "<div class=\"alert alert-warning\" role=\"alert\"> \n",
    "  아래 문제에서, 오렌지 색은 컴퓨터가 화면에 나타내는 내용이며, 파란색은 사용자의 키보드 입력(입력을 마친 후 Enter 키를 누름)을 나타낸다.\n",
    "</div>"
   ]
  },
  {
   "cell_type": "markdown",
   "metadata": {
    "Collapsed": "false",
    "hidden": true
   },
   "source": [
    "<br><br><br>\n",
    "<span style=\"color:red\">연습문제 1.2&nbsp;&nbsp; </span>   \n",
    "input( )을 사용하여, 다음과 같이 출생도시의 이름을 입력받고 환영하는 프로그램을 작성하라.  \n",
    "\n",
    "예:  \n",
    "<span style=\"color:orange\">출생도시: </span>  <span style=\"color:blue\"> 서울 </span>  \n",
    "<span style=\"color:orange\">당신은 서울에서 태어났습니다. </span>   "
   ]
  },
  {
   "cell_type": "markdown",
   "metadata": {
    "Collapsed": "false",
    "hidden": true
   },
   "source": [
    "** 연습문제 1.1 &nbsp;&nbsp;프로그램 가이드 ** \n",
    "- step 1: input( )을 사용하여 화면에 “출생도시: “ 가 나타나도록 하며, 사용자가 입력한 내용을 name 이라는 변수에 저장한다. \n",
    "- step 2: print 문과 + 연산자 그리고 name을 이용하여 인쇄한다."
   ]
  },
  {
   "cell_type": "markdown",
   "metadata": {
    "Collapsed": "false",
    "hidden": true
   },
   "source": [
    "<br><br><br>\n",
    "<span style=\"color:red\">연습문제 1.3 </span>   \n",
    "아래와 같이, 올해는 몇 년입니까?의 프롬프트로 사용자의 입력을 받아, 내년은 0000년 입니다를 화면에 인쇄하는 코드를 작성 하시오.\n",
    "\n",
    "예:  \n",
    "<span style=\"color:orange\">올해는 몇 년입니까? <span style=\"color:blue\">2019    \n",
    "<span style=\"color:orange\">내년은 2020년 입니다. </span> "
   ]
  },
  {
   "cell_type": "markdown",
   "metadata": {
    "Collapsed": "false",
    "hidden": true
   },
   "source": [
    "<br><br><br>\n",
    "<span style=\"color:red\">연습문제 1.4 </span>   \n",
    "사용자로부터 분을 입력받아 초로 변환하여 출력하는 프로그램을 작성하라.\n",
    "\n",
    "예:  \n",
    "<span style=\"color:orange\">변환할 시간을 입력하세요.  \n",
    "<span style=\"color:orange\">분: <span style=\"color:blue\">5 </span>     \n",
    "<span style=\"color:orange\">300초 입니다. </span> "
   ]
  },
  {
   "cell_type": "markdown",
   "metadata": {
    "Collapsed": "false",
    "hidden": true
   },
   "source": [
    "<br><br><br>\n",
    "<span style=\"color:red\">연습문제 1.5 </span>  \n",
    "사용자로부터 분, 초를 입력받아 초로 변환하여 출력하는 프로그램을 작성하라.\n",
    "\n",
    "예:  \n",
    "<span style=\"color:orange\">변환할 시간을 입력하세요.  \n",
    "<span style=\"color:orange\">분: <span style=\"color:blue\">5 </span>      \n",
    "<span style=\"color:orange\">초: <span style=\"color:blue\">30 </span>  \n",
    "<span style=\"color:orange\">330초 입니다. </span> "
   ]
  },
  {
   "cell_type": "markdown",
   "metadata": {
    "Collapsed": "false",
    "hidden": true
   },
   "source": [
    "<br><br><br>\n",
    "<span style=\"color:red\">연습문제 1.6 </span>   \n",
    "사용자로부터 시, 분, 초를 입력받아 초로 변환하여 출력하는 프로그램을 작성하라.\n",
    "\n",
    "예:   \n",
    "<span style=\"color:orange\">변환할 시간을 입력하세요.  \n",
    "<span style=\"color:orange\">시간: <span style=\"color:blue\">2  </span>  \n",
    "<span style=\"color:orange\">분:&nbsp;&nbsp;  <span style=\"color:blue\">46 </span>   \n",
    "<span style=\"color:orange\">초:&nbsp;&nbsp;  <span style=\"color:blue\">40 </span>   \n",
    "<span style=\"color:orange\">10000초 입니다. </span> "
   ]
  },
  {
   "cell_type": "markdown",
   "metadata": {
    "Collapsed": "false",
    "hidden": true
   },
   "source": [
    "<br><br><br>\n",
    "<span style=\"color:red\">연습문제 1.7 </span>   \n",
    "사용자로부터 나이를 입력받아 2030년에 몇 살이 되는지를 출력하는 프로그램을 작성하라.\n",
    "\n",
    "예:  \n",
    "<span style=\"color:orange\">나이: <span style=\"color:blue\">25    \n",
    "<span style=\"color:orange\">2030년에 당신의 나이는 35살 입니다. </span> "
   ]
  },
  {
   "cell_type": "markdown",
   "metadata": {
    "Collapsed": "false",
    "hidden": true
   },
   "source": [
    "<br><br><br>\n",
    "<span style=\"color:red\">연습문제 1.8 </span>   \n",
    "사용자로부터 근로시간과 시간당임금을 입력받아 급여를 계산하는 프로그램을 작성하라.  \n",
    "\n",
    "예:  \n",
    "<span style=\"color:orange\">일 한 시간을 입력하세요: <span style=\"color:blue\">15    \n",
    "<span style=\"color:orange\">시간당 임금을 입력하세요: <span style=\"color:blue\">7.53  \n",
    "<span style=\"color:orange\">급여: 112.95 </span>  \n",
    "\n",
    "지금은 급여가 정확하게 소수점 두자리까지 표현되지 않아도 된다.   "
   ]
  },
  {
   "cell_type": "markdown",
   "metadata": {
    "Collapsed": "false",
    "hidden": true
   },
   "source": [
    "<br><br><br>\n",
    "<span style=\"color:red\">연습문제 1.9 </span>   \n",
    "사용자로부터 가로의 길이와 세로의 길이를 입력받아, \n",
    "직사각형의 넓이를 계산하여 다음과 같이 출력하는 프로그램을 작성하라.\n",
    "\n",
    "예:  \n",
    "<span style=\"color:orange\">가로: <span style=\"color:blue\">5 </span>    \n",
    "<span style=\"color:orange\">세로: <span style=\"color:blue\">10 </span>    \n",
    "<span style=\"color:orange\">가로 5, 세로 10인 직사각형의 넓이는 50 입니다. </span> "
   ]
  },
  {
   "cell_type": "markdown",
   "metadata": {
    "Collapsed": "false",
    "hidden": true
   },
   "source": [
    "<br><br><br>\n",
    "<span style=\"color:red\">연습문제 1.10 </span>  \n",
    "사용자로부터 초를 입력받아 분, 초로 변환하고, 변환된 시간을 출력하는 프로그램을 작성하라.\n",
    "\n",
    "예:  \n",
    "<span style=\"color:orange\">변환할 시간을 입력하세요(단위: 초): <span style=\"color:blue\">500   \n",
    "<span style=\"color:orange\">8분 20초 입니다. </span> "
   ]
  },
  {
   "cell_type": "markdown",
   "metadata": {
    "Collapsed": "false",
    "hidden": true
   },
   "source": [
    "<br><br><br>\n",
    "<span style=\"color:red\">연습문제 1.11 </span>   \n",
    "사용자로부터 초를 입력받아 시간, 분, 초로 변환하고, 변환된 시간을 출력하는 프로그램을 작성하라.\n",
    "\n",
    "예:  \n",
    "<span style=\"color:orange\">변환할 시간을 입력하세요(단위: 초): <span style=\"color:blue\">10000    \n",
    "<span style=\"color:orange\">2시간 46분 40초 입니다. </span> "
   ]
  },
  {
   "cell_type": "markdown",
   "metadata": {
    "Collapsed": "false",
    "hidden": true
   },
   "source": [
    "<br><br><br>\n",
    "<span style=\"color:red\">연습문제 1.12 </span>   \n",
    "사용자로부터 2020년 나이와 미래의 년도를 입력받아 미래의 년도에 몇 살이 되는지를 출력하는 프로그램을 작성하라.\n",
    "\n",
    "예:  \n",
    "<span style=\"color:orange\">2020년 나이: <span style=\"color:blue\">25    \n",
    "<span style=\"color:orange\">미래 년도: <span style=\"color:blue\">2050    \n",
    "<span style=\"color:orange\">2050년에 당신의 나이는 55살 입니다. </span> "
   ]
  }
 ],
 "metadata": {
  "kernelspec": {
   "display_name": "Python 3",
   "language": "python",
   "name": "python3"
  },
  "language_info": {
   "codemirror_mode": {
    "name": "ipython",
    "version": 3
   },
   "file_extension": ".py",
   "mimetype": "text/x-python",
   "name": "python",
   "nbconvert_exporter": "python",
   "pygments_lexer": "ipython3",
   "version": "3.7.6"
  }
 },
 "nbformat": 4,
 "nbformat_minor": 4
}
